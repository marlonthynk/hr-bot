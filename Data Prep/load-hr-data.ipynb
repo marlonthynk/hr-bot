{
 "cells": [
  {
   "cell_type": "code",
   "execution_count": 1,
   "metadata": {},
   "outputs": [
    {
     "name": "stdout",
     "output_type": "stream",
     "text": [
      "Requirement already satisfied: streamlit in c:\\users\\marlongrech\\appdata\\local\\packages\\pythonsoftwarefoundation.python.3.11_qbz5n2kfra8p0\\localcache\\local-packages\\python311\\site-packages (1.25.0)\n",
      "Requirement already satisfied: openai in c:\\users\\marlongrech\\appdata\\local\\packages\\pythonsoftwarefoundation.python.3.11_qbz5n2kfra8p0\\localcache\\local-packages\\python311\\site-packages (0.27.8)\n",
      "Requirement already satisfied: langchain in c:\\users\\marlongrech\\appdata\\local\\packages\\pythonsoftwarefoundation.python.3.11_qbz5n2kfra8p0\\localcache\\local-packages\\python311\\site-packages (0.0.263)\n",
      "Requirement already satisfied: altair<6,>=4.0 in c:\\users\\marlongrech\\appdata\\local\\packages\\pythonsoftwarefoundation.python.3.11_qbz5n2kfra8p0\\localcache\\local-packages\\python311\\site-packages (from streamlit) (5.0.1)\n",
      "Requirement already satisfied: blinker<2,>=1.0.0 in c:\\users\\marlongrech\\appdata\\local\\packages\\pythonsoftwarefoundation.python.3.11_qbz5n2kfra8p0\\localcache\\local-packages\\python311\\site-packages (from streamlit) (1.6.2)\n",
      "Requirement already satisfied: cachetools<6,>=4.0 in c:\\users\\marlongrech\\appdata\\local\\packages\\pythonsoftwarefoundation.python.3.11_qbz5n2kfra8p0\\localcache\\local-packages\\python311\\site-packages (from streamlit) (5.3.1)\n",
      "Requirement already satisfied: click<9,>=7.0 in c:\\users\\marlongrech\\appdata\\local\\packages\\pythonsoftwarefoundation.python.3.11_qbz5n2kfra8p0\\localcache\\local-packages\\python311\\site-packages (from streamlit) (8.1.6)\n",
      "Requirement already satisfied: importlib-metadata<7,>=1.4 in c:\\users\\marlongrech\\appdata\\local\\packages\\pythonsoftwarefoundation.python.3.11_qbz5n2kfra8p0\\localcache\\local-packages\\python311\\site-packages (from streamlit) (6.8.0)\n",
      "Requirement already satisfied: numpy<2,>=1.19.3 in c:\\users\\marlongrech\\appdata\\local\\packages\\pythonsoftwarefoundation.python.3.11_qbz5n2kfra8p0\\localcache\\local-packages\\python311\\site-packages (from streamlit) (1.25.2)\n",
      "Requirement already satisfied: packaging<24,>=16.8 in c:\\users\\marlongrech\\appdata\\local\\packages\\pythonsoftwarefoundation.python.3.11_qbz5n2kfra8p0\\localcache\\local-packages\\python311\\site-packages (from streamlit) (23.1)\n",
      "Requirement already satisfied: pandas<3,>=1.3.0 in c:\\users\\marlongrech\\appdata\\local\\packages\\pythonsoftwarefoundation.python.3.11_qbz5n2kfra8p0\\localcache\\local-packages\\python311\\site-packages (from streamlit) (2.0.3)\n",
      "Requirement already satisfied: pillow<10,>=7.1.0 in c:\\users\\marlongrech\\appdata\\local\\packages\\pythonsoftwarefoundation.python.3.11_qbz5n2kfra8p0\\localcache\\local-packages\\python311\\site-packages (from streamlit) (9.5.0)\n",
      "Requirement already satisfied: protobuf<5,>=3.20 in c:\\users\\marlongrech\\appdata\\local\\packages\\pythonsoftwarefoundation.python.3.11_qbz5n2kfra8p0\\localcache\\local-packages\\python311\\site-packages (from streamlit) (4.24.0)\n",
      "Requirement already satisfied: pyarrow>=6.0 in c:\\users\\marlongrech\\appdata\\local\\packages\\pythonsoftwarefoundation.python.3.11_qbz5n2kfra8p0\\localcache\\local-packages\\python311\\site-packages (from streamlit) (12.0.1)\n",
      "Requirement already satisfied: pympler<2,>=0.9 in c:\\users\\marlongrech\\appdata\\local\\packages\\pythonsoftwarefoundation.python.3.11_qbz5n2kfra8p0\\localcache\\local-packages\\python311\\site-packages (from streamlit) (1.0.1)\n",
      "Requirement already satisfied: python-dateutil<3,>=2.7.3 in c:\\users\\marlongrech\\appdata\\local\\packages\\pythonsoftwarefoundation.python.3.11_qbz5n2kfra8p0\\localcache\\local-packages\\python311\\site-packages (from streamlit) (2.8.2)\n",
      "Requirement already satisfied: requests<3,>=2.18 in c:\\users\\marlongrech\\appdata\\local\\packages\\pythonsoftwarefoundation.python.3.11_qbz5n2kfra8p0\\localcache\\local-packages\\python311\\site-packages (from streamlit) (2.31.0)\n",
      "Requirement already satisfied: rich<14,>=10.14.0 in c:\\users\\marlongrech\\appdata\\local\\packages\\pythonsoftwarefoundation.python.3.11_qbz5n2kfra8p0\\localcache\\local-packages\\python311\\site-packages (from streamlit) (13.5.2)\n",
      "Requirement already satisfied: tenacity<9,>=8.1.0 in c:\\users\\marlongrech\\appdata\\local\\packages\\pythonsoftwarefoundation.python.3.11_qbz5n2kfra8p0\\localcache\\local-packages\\python311\\site-packages (from streamlit) (8.2.2)\n",
      "Requirement already satisfied: toml<2,>=0.10.1 in c:\\users\\marlongrech\\appdata\\local\\packages\\pythonsoftwarefoundation.python.3.11_qbz5n2kfra8p0\\localcache\\local-packages\\python311\\site-packages (from streamlit) (0.10.2)\n",
      "Requirement already satisfied: typing-extensions<5,>=4.1.0 in c:\\users\\marlongrech\\appdata\\local\\packages\\pythonsoftwarefoundation.python.3.11_qbz5n2kfra8p0\\localcache\\local-packages\\python311\\site-packages (from streamlit) (4.7.1)\n",
      "Requirement already satisfied: tzlocal<5,>=1.1 in c:\\users\\marlongrech\\appdata\\local\\packages\\pythonsoftwarefoundation.python.3.11_qbz5n2kfra8p0\\localcache\\local-packages\\python311\\site-packages (from streamlit) (4.3.1)\n",
      "Requirement already satisfied: validators<1,>=0.2 in c:\\users\\marlongrech\\appdata\\local\\packages\\pythonsoftwarefoundation.python.3.11_qbz5n2kfra8p0\\localcache\\local-packages\\python311\\site-packages (from streamlit) (0.21.2)\n",
      "Requirement already satisfied: gitpython!=3.1.19,<4,>=3.0.7 in c:\\users\\marlongrech\\appdata\\local\\packages\\pythonsoftwarefoundation.python.3.11_qbz5n2kfra8p0\\localcache\\local-packages\\python311\\site-packages (from streamlit) (3.1.32)\n",
      "Requirement already satisfied: pydeck<1,>=0.8 in c:\\users\\marlongrech\\appdata\\local\\packages\\pythonsoftwarefoundation.python.3.11_qbz5n2kfra8p0\\localcache\\local-packages\\python311\\site-packages (from streamlit) (0.8.0)\n",
      "Requirement already satisfied: tornado<7,>=6.0.3 in c:\\users\\marlongrech\\appdata\\local\\packages\\pythonsoftwarefoundation.python.3.11_qbz5n2kfra8p0\\localcache\\local-packages\\python311\\site-packages (from streamlit) (6.3.3)\n",
      "Requirement already satisfied: watchdog>=2.1.5 in c:\\users\\marlongrech\\appdata\\local\\packages\\pythonsoftwarefoundation.python.3.11_qbz5n2kfra8p0\\localcache\\local-packages\\python311\\site-packages (from streamlit) (3.0.0)\n",
      "Requirement already satisfied: tqdm in c:\\users\\marlongrech\\appdata\\local\\packages\\pythonsoftwarefoundation.python.3.11_qbz5n2kfra8p0\\localcache\\local-packages\\python311\\site-packages (from openai) (4.66.1)\n",
      "Requirement already satisfied: aiohttp in c:\\users\\marlongrech\\appdata\\local\\packages\\pythonsoftwarefoundation.python.3.11_qbz5n2kfra8p0\\localcache\\local-packages\\python311\\site-packages (from openai) (3.8.5)\n",
      "Requirement already satisfied: PyYAML>=5.3 in c:\\users\\marlongrech\\appdata\\local\\packages\\pythonsoftwarefoundation.python.3.11_qbz5n2kfra8p0\\localcache\\local-packages\\python311\\site-packages (from langchain) (6.0.1)\n",
      "Requirement already satisfied: SQLAlchemy<3,>=1.4 in c:\\users\\marlongrech\\appdata\\local\\packages\\pythonsoftwarefoundation.python.3.11_qbz5n2kfra8p0\\localcache\\local-packages\\python311\\site-packages (from langchain) (2.0.19)\n",
      "Requirement already satisfied: dataclasses-json<0.6.0,>=0.5.7 in c:\\users\\marlongrech\\appdata\\local\\packages\\pythonsoftwarefoundation.python.3.11_qbz5n2kfra8p0\\localcache\\local-packages\\python311\\site-packages (from langchain) (0.5.14)\n",
      "Requirement already satisfied: langsmith<0.1.0,>=0.0.11 in c:\\users\\marlongrech\\appdata\\local\\packages\\pythonsoftwarefoundation.python.3.11_qbz5n2kfra8p0\\localcache\\local-packages\\python311\\site-packages (from langchain) (0.0.22)\n",
      "Requirement already satisfied: numexpr<3.0.0,>=2.8.4 in c:\\users\\marlongrech\\appdata\\local\\packages\\pythonsoftwarefoundation.python.3.11_qbz5n2kfra8p0\\localcache\\local-packages\\python311\\site-packages (from langchain) (2.8.5)\n",
      "Requirement already satisfied: openapi-schema-pydantic<2.0,>=1.2 in c:\\users\\marlongrech\\appdata\\local\\packages\\pythonsoftwarefoundation.python.3.11_qbz5n2kfra8p0\\localcache\\local-packages\\python311\\site-packages (from langchain) (1.2.4)\n",
      "Requirement already satisfied: pydantic<2,>=1 in c:\\users\\marlongrech\\appdata\\local\\packages\\pythonsoftwarefoundation.python.3.11_qbz5n2kfra8p0\\localcache\\local-packages\\python311\\site-packages (from langchain) (1.10.12)\n",
      "Requirement already satisfied: attrs>=17.3.0 in c:\\users\\marlongrech\\appdata\\local\\packages\\pythonsoftwarefoundation.python.3.11_qbz5n2kfra8p0\\localcache\\local-packages\\python311\\site-packages (from aiohttp->openai) (23.1.0)\n",
      "Requirement already satisfied: charset-normalizer<4.0,>=2.0 in c:\\users\\marlongrech\\appdata\\local\\packages\\pythonsoftwarefoundation.python.3.11_qbz5n2kfra8p0\\localcache\\local-packages\\python311\\site-packages (from aiohttp->openai) (3.2.0)\n",
      "Requirement already satisfied: multidict<7.0,>=4.5 in c:\\users\\marlongrech\\appdata\\local\\packages\\pythonsoftwarefoundation.python.3.11_qbz5n2kfra8p0\\localcache\\local-packages\\python311\\site-packages (from aiohttp->openai) (6.0.4)\n",
      "Requirement already satisfied: async-timeout<5.0,>=4.0.0a3 in c:\\users\\marlongrech\\appdata\\local\\packages\\pythonsoftwarefoundation.python.3.11_qbz5n2kfra8p0\\localcache\\local-packages\\python311\\site-packages (from aiohttp->openai) (4.0.3)\n",
      "Requirement already satisfied: yarl<2.0,>=1.0 in c:\\users\\marlongrech\\appdata\\local\\packages\\pythonsoftwarefoundation.python.3.11_qbz5n2kfra8p0\\localcache\\local-packages\\python311\\site-packages (from aiohttp->openai) (1.9.2)\n",
      "Requirement already satisfied: frozenlist>=1.1.1 in c:\\users\\marlongrech\\appdata\\local\\packages\\pythonsoftwarefoundation.python.3.11_qbz5n2kfra8p0\\localcache\\local-packages\\python311\\site-packages (from aiohttp->openai) (1.4.0)\n",
      "Requirement already satisfied: aiosignal>=1.1.2 in c:\\users\\marlongrech\\appdata\\local\\packages\\pythonsoftwarefoundation.python.3.11_qbz5n2kfra8p0\\localcache\\local-packages\\python311\\site-packages (from aiohttp->openai) (1.3.1)\n",
      "Requirement already satisfied: jinja2 in c:\\users\\marlongrech\\appdata\\local\\packages\\pythonsoftwarefoundation.python.3.11_qbz5n2kfra8p0\\localcache\\local-packages\\python311\\site-packages (from altair<6,>=4.0->streamlit) (3.1.2)\n",
      "Requirement already satisfied: jsonschema>=3.0 in c:\\users\\marlongrech\\appdata\\local\\packages\\pythonsoftwarefoundation.python.3.11_qbz5n2kfra8p0\\localcache\\local-packages\\python311\\site-packages (from altair<6,>=4.0->streamlit) (4.19.0)\n",
      "Requirement already satisfied: toolz in c:\\users\\marlongrech\\appdata\\local\\packages\\pythonsoftwarefoundation.python.3.11_qbz5n2kfra8p0\\localcache\\local-packages\\python311\\site-packages (from altair<6,>=4.0->streamlit) (0.12.0)\n",
      "Requirement already satisfied: colorama in c:\\users\\marlongrech\\appdata\\local\\packages\\pythonsoftwarefoundation.python.3.11_qbz5n2kfra8p0\\localcache\\local-packages\\python311\\site-packages (from click<9,>=7.0->streamlit) (0.4.6)\n",
      "Requirement already satisfied: marshmallow<4.0.0,>=3.18.0 in c:\\users\\marlongrech\\appdata\\local\\packages\\pythonsoftwarefoundation.python.3.11_qbz5n2kfra8p0\\localcache\\local-packages\\python311\\site-packages (from dataclasses-json<0.6.0,>=0.5.7->langchain) (3.20.1)\n",
      "Requirement already satisfied: typing-inspect<1,>=0.4.0 in c:\\users\\marlongrech\\appdata\\local\\packages\\pythonsoftwarefoundation.python.3.11_qbz5n2kfra8p0\\localcache\\local-packages\\python311\\site-packages (from dataclasses-json<0.6.0,>=0.5.7->langchain) (0.9.0)\n",
      "Requirement already satisfied: gitdb<5,>=4.0.1 in c:\\users\\marlongrech\\appdata\\local\\packages\\pythonsoftwarefoundation.python.3.11_qbz5n2kfra8p0\\localcache\\local-packages\\python311\\site-packages (from gitpython!=3.1.19,<4,>=3.0.7->streamlit) (4.0.10)\n",
      "Requirement already satisfied: zipp>=0.5 in c:\\users\\marlongrech\\appdata\\local\\packages\\pythonsoftwarefoundation.python.3.11_qbz5n2kfra8p0\\localcache\\local-packages\\python311\\site-packages (from importlib-metadata<7,>=1.4->streamlit) (3.16.2)\n",
      "Requirement already satisfied: pytz>=2020.1 in c:\\users\\marlongrech\\appdata\\local\\packages\\pythonsoftwarefoundation.python.3.11_qbz5n2kfra8p0\\localcache\\local-packages\\python311\\site-packages (from pandas<3,>=1.3.0->streamlit) (2023.3)\n",
      "Requirement already satisfied: tzdata>=2022.1 in c:\\users\\marlongrech\\appdata\\local\\packages\\pythonsoftwarefoundation.python.3.11_qbz5n2kfra8p0\\localcache\\local-packages\\python311\\site-packages (from pandas<3,>=1.3.0->streamlit) (2023.3)\n",
      "Requirement already satisfied: six>=1.5 in c:\\users\\marlongrech\\appdata\\local\\packages\\pythonsoftwarefoundation.python.3.11_qbz5n2kfra8p0\\localcache\\local-packages\\python311\\site-packages (from python-dateutil<3,>=2.7.3->streamlit) (1.16.0)\n",
      "Requirement already satisfied: idna<4,>=2.5 in c:\\users\\marlongrech\\appdata\\local\\packages\\pythonsoftwarefoundation.python.3.11_qbz5n2kfra8p0\\localcache\\local-packages\\python311\\site-packages (from requests<3,>=2.18->streamlit) (3.4)\n",
      "Requirement already satisfied: urllib3<3,>=1.21.1 in c:\\users\\marlongrech\\appdata\\local\\packages\\pythonsoftwarefoundation.python.3.11_qbz5n2kfra8p0\\localcache\\local-packages\\python311\\site-packages (from requests<3,>=2.18->streamlit) (2.0.4)\n",
      "Requirement already satisfied: certifi>=2017.4.17 in c:\\users\\marlongrech\\appdata\\local\\packages\\pythonsoftwarefoundation.python.3.11_qbz5n2kfra8p0\\localcache\\local-packages\\python311\\site-packages (from requests<3,>=2.18->streamlit) (2023.7.22)\n",
      "Requirement already satisfied: markdown-it-py>=2.2.0 in c:\\users\\marlongrech\\appdata\\local\\packages\\pythonsoftwarefoundation.python.3.11_qbz5n2kfra8p0\\localcache\\local-packages\\python311\\site-packages (from rich<14,>=10.14.0->streamlit) (3.0.0)\n",
      "Requirement already satisfied: pygments<3.0.0,>=2.13.0 in c:\\users\\marlongrech\\appdata\\local\\packages\\pythonsoftwarefoundation.python.3.11_qbz5n2kfra8p0\\localcache\\local-packages\\python311\\site-packages (from rich<14,>=10.14.0->streamlit) (2.16.1)\n",
      "Requirement already satisfied: greenlet!=0.4.17 in c:\\users\\marlongrech\\appdata\\local\\packages\\pythonsoftwarefoundation.python.3.11_qbz5n2kfra8p0\\localcache\\local-packages\\python311\\site-packages (from SQLAlchemy<3,>=1.4->langchain) (2.0.2)\n",
      "Requirement already satisfied: pytz-deprecation-shim in c:\\users\\marlongrech\\appdata\\local\\packages\\pythonsoftwarefoundation.python.3.11_qbz5n2kfra8p0\\localcache\\local-packages\\python311\\site-packages (from tzlocal<5,>=1.1->streamlit) (0.1.0.post0)\n",
      "Requirement already satisfied: smmap<6,>=3.0.1 in c:\\users\\marlongrech\\appdata\\local\\packages\\pythonsoftwarefoundation.python.3.11_qbz5n2kfra8p0\\localcache\\local-packages\\python311\\site-packages (from gitdb<5,>=4.0.1->gitpython!=3.1.19,<4,>=3.0.7->streamlit) (5.0.0)\n",
      "Requirement already satisfied: MarkupSafe>=2.0 in c:\\users\\marlongrech\\appdata\\local\\packages\\pythonsoftwarefoundation.python.3.11_qbz5n2kfra8p0\\localcache\\local-packages\\python311\\site-packages (from jinja2->altair<6,>=4.0->streamlit) (2.1.3)\n",
      "Requirement already satisfied: jsonschema-specifications>=2023.03.6 in c:\\users\\marlongrech\\appdata\\local\\packages\\pythonsoftwarefoundation.python.3.11_qbz5n2kfra8p0\\localcache\\local-packages\\python311\\site-packages (from jsonschema>=3.0->altair<6,>=4.0->streamlit) (2023.7.1)\n",
      "Requirement already satisfied: referencing>=0.28.4 in c:\\users\\marlongrech\\appdata\\local\\packages\\pythonsoftwarefoundation.python.3.11_qbz5n2kfra8p0\\localcache\\local-packages\\python311\\site-packages (from jsonschema>=3.0->altair<6,>=4.0->streamlit) (0.30.2)\n",
      "Requirement already satisfied: rpds-py>=0.7.1 in c:\\users\\marlongrech\\appdata\\local\\packages\\pythonsoftwarefoundation.python.3.11_qbz5n2kfra8p0\\localcache\\local-packages\\python311\\site-packages (from jsonschema>=3.0->altair<6,>=4.0->streamlit) (0.9.2)\n",
      "Requirement already satisfied: mdurl~=0.1 in c:\\users\\marlongrech\\appdata\\local\\packages\\pythonsoftwarefoundation.python.3.11_qbz5n2kfra8p0\\localcache\\local-packages\\python311\\site-packages (from markdown-it-py>=2.2.0->rich<14,>=10.14.0->streamlit) (0.1.2)\n",
      "Requirement already satisfied: mypy-extensions>=0.3.0 in c:\\users\\marlongrech\\appdata\\local\\packages\\pythonsoftwarefoundation.python.3.11_qbz5n2kfra8p0\\localcache\\local-packages\\python311\\site-packages (from typing-inspect<1,>=0.4.0->dataclasses-json<0.6.0,>=0.5.7->langchain) (1.0.0)\n",
      "Note: you may need to restart the kernel to use updated packages.\n"
     ]
    }
   ],
   "source": [
    "pip install streamlit openai langchain "
   ]
  },
  {
   "cell_type": "code",
   "execution_count": 2,
   "metadata": {},
   "outputs": [
    {
     "name": "stdout",
     "output_type": "stream",
     "text": [
      "Requirement already satisfied: PyPDF2 in c:\\users\\marlongrech\\appdata\\local\\packages\\pythonsoftwarefoundation.python.3.11_qbz5n2kfra8p0\\localcache\\local-packages\\python311\\site-packages (3.0.1)\n",
      "Note: you may need to restart the kernel to use updated packages.\n"
     ]
    }
   ],
   "source": [
    "pip install PyPDF2"
   ]
  },
  {
   "cell_type": "code",
   "execution_count": 3,
   "metadata": {},
   "outputs": [
    {
     "name": "stdout",
     "output_type": "stream",
     "text": [
      "Requirement already satisfied: unstructured in c:\\users\\marlongrech\\appdata\\local\\packages\\pythonsoftwarefoundation.python.3.11_qbz5n2kfra8p0\\localcache\\local-packages\\python311\\site-packages (0.9.2)Note: you may need to restart the kernel to use updated packages.\n",
      "\n",
      "Requirement already satisfied: pdf2image in c:\\users\\marlongrech\\appdata\\local\\packages\\pythonsoftwarefoundation.python.3.11_qbz5n2kfra8p0\\localcache\\local-packages\\python311\\site-packages (1.16.3)\n",
      "Requirement already satisfied: pdfminer in c:\\users\\marlongrech\\appdata\\local\\packages\\pythonsoftwarefoundation.python.3.11_qbz5n2kfra8p0\\localcache\\local-packages\\python311\\site-packages (20191125)\n",
      "Requirement already satisfied: chardet in c:\\users\\marlongrech\\appdata\\local\\packages\\pythonsoftwarefoundation.python.3.11_qbz5n2kfra8p0\\localcache\\local-packages\\python311\\site-packages (from unstructured) (5.2.0)\n",
      "Requirement already satisfied: filetype in c:\\users\\marlongrech\\appdata\\local\\packages\\pythonsoftwarefoundation.python.3.11_qbz5n2kfra8p0\\localcache\\local-packages\\python311\\site-packages (from unstructured) (1.2.0)\n",
      "Requirement already satisfied: python-magic in c:\\users\\marlongrech\\appdata\\local\\packages\\pythonsoftwarefoundation.python.3.11_qbz5n2kfra8p0\\localcache\\local-packages\\python311\\site-packages (from unstructured) (0.4.27)\n",
      "Requirement already satisfied: lxml in c:\\users\\marlongrech\\appdata\\local\\packages\\pythonsoftwarefoundation.python.3.11_qbz5n2kfra8p0\\localcache\\local-packages\\python311\\site-packages (from unstructured) (4.9.3)\n",
      "Requirement already satisfied: nltk in c:\\users\\marlongrech\\appdata\\local\\packages\\pythonsoftwarefoundation.python.3.11_qbz5n2kfra8p0\\localcache\\local-packages\\python311\\site-packages (from unstructured) (3.8.1)\n",
      "Requirement already satisfied: tabulate in c:\\users\\marlongrech\\appdata\\local\\packages\\pythonsoftwarefoundation.python.3.11_qbz5n2kfra8p0\\localcache\\local-packages\\python311\\site-packages (from unstructured) (0.9.0)\n",
      "Requirement already satisfied: requests in c:\\users\\marlongrech\\appdata\\local\\packages\\pythonsoftwarefoundation.python.3.11_qbz5n2kfra8p0\\localcache\\local-packages\\python311\\site-packages (from unstructured) (2.31.0)\n",
      "Requirement already satisfied: pillow in c:\\users\\marlongrech\\appdata\\local\\packages\\pythonsoftwarefoundation.python.3.11_qbz5n2kfra8p0\\localcache\\local-packages\\python311\\site-packages (from pdf2image) (9.5.0)\n",
      "Requirement already satisfied: pycryptodome in c:\\users\\marlongrech\\appdata\\local\\packages\\pythonsoftwarefoundation.python.3.11_qbz5n2kfra8p0\\localcache\\local-packages\\python311\\site-packages (from pdfminer) (3.18.0)\n",
      "Requirement already satisfied: click in c:\\users\\marlongrech\\appdata\\local\\packages\\pythonsoftwarefoundation.python.3.11_qbz5n2kfra8p0\\localcache\\local-packages\\python311\\site-packages (from nltk->unstructured) (8.1.6)\n",
      "Requirement already satisfied: joblib in c:\\users\\marlongrech\\appdata\\local\\packages\\pythonsoftwarefoundation.python.3.11_qbz5n2kfra8p0\\localcache\\local-packages\\python311\\site-packages (from nltk->unstructured) (1.3.2)\n",
      "Requirement already satisfied: regex>=2021.8.3 in c:\\users\\marlongrech\\appdata\\local\\packages\\pythonsoftwarefoundation.python.3.11_qbz5n2kfra8p0\\localcache\\local-packages\\python311\\site-packages (from nltk->unstructured) (2023.8.8)\n",
      "Requirement already satisfied: tqdm in c:\\users\\marlongrech\\appdata\\local\\packages\\pythonsoftwarefoundation.python.3.11_qbz5n2kfra8p0\\localcache\\local-packages\\python311\\site-packages (from nltk->unstructured) (4.66.1)\n",
      "Requirement already satisfied: charset-normalizer<4,>=2 in c:\\users\\marlongrech\\appdata\\local\\packages\\pythonsoftwarefoundation.python.3.11_qbz5n2kfra8p0\\localcache\\local-packages\\python311\\site-packages (from requests->unstructured) (3.2.0)\n",
      "Requirement already satisfied: idna<4,>=2.5 in c:\\users\\marlongrech\\appdata\\local\\packages\\pythonsoftwarefoundation.python.3.11_qbz5n2kfra8p0\\localcache\\local-packages\\python311\\site-packages (from requests->unstructured) (3.4)\n",
      "Requirement already satisfied: urllib3<3,>=1.21.1 in c:\\users\\marlongrech\\appdata\\local\\packages\\pythonsoftwarefoundation.python.3.11_qbz5n2kfra8p0\\localcache\\local-packages\\python311\\site-packages (from requests->unstructured) (2.0.4)\n",
      "Requirement already satisfied: certifi>=2017.4.17 in c:\\users\\marlongrech\\appdata\\local\\packages\\pythonsoftwarefoundation.python.3.11_qbz5n2kfra8p0\\localcache\\local-packages\\python311\\site-packages (from requests->unstructured) (2023.7.22)\n",
      "Requirement already satisfied: colorama in c:\\users\\marlongrech\\appdata\\local\\packages\\pythonsoftwarefoundation.python.3.11_qbz5n2kfra8p0\\localcache\\local-packages\\python311\\site-packages (from click->nltk->unstructured) (0.4.6)\n"
     ]
    }
   ],
   "source": [
    "pip install unstructured pdf2image pdfminer"
   ]
  },
  {
   "cell_type": "code",
   "execution_count": 4,
   "metadata": {},
   "outputs": [
    {
     "name": "stdout",
     "output_type": "stream",
     "text": [
      "Requirement already satisfied: pinecone-client in c:\\users\\marlongrech\\appdata\\local\\packages\\pythonsoftwarefoundation.python.3.11_qbz5n2kfra8p0\\localcache\\local-packages\\python311\\site-packages (2.2.2)\n",
      "Requirement already satisfied: tiktoken in c:\\users\\marlongrech\\appdata\\local\\packages\\pythonsoftwarefoundation.python.3.11_qbz5n2kfra8p0\\localcache\\local-packages\\python311\\site-packages (0.4.0)\n",
      "Requirement already satisfied: requests>=2.19.0 in c:\\users\\marlongrech\\appdata\\local\\packages\\pythonsoftwarefoundation.python.3.11_qbz5n2kfra8p0\\localcache\\local-packages\\python311\\site-packages (from pinecone-client) (2.31.0)\n",
      "Requirement already satisfied: pyyaml>=5.4 in c:\\users\\marlongrech\\appdata\\local\\packages\\pythonsoftwarefoundation.python.3.11_qbz5n2kfra8p0\\localcache\\local-packages\\python311\\site-packages (from pinecone-client) (6.0.1)\n",
      "Requirement already satisfied: loguru>=0.5.0 in c:\\users\\marlongrech\\appdata\\local\\packages\\pythonsoftwarefoundation.python.3.11_qbz5n2kfra8p0\\localcache\\local-packages\\python311\\site-packages (from pinecone-client) (0.7.0)\n",
      "Requirement already satisfied: typing-extensions>=3.7.4 in c:\\users\\marlongrech\\appdata\\local\\packages\\pythonsoftwarefoundation.python.3.11_qbz5n2kfra8p0\\localcache\\local-packages\\python311\\site-packages (from pinecone-client) (4.7.1)\n",
      "Requirement already satisfied: dnspython>=2.0.0 in c:\\users\\marlongrech\\appdata\\local\\packages\\pythonsoftwarefoundation.python.3.11_qbz5n2kfra8p0\\localcache\\local-packages\\python311\\site-packages (from pinecone-client) (2.4.2)\n",
      "Requirement already satisfied: python-dateutil>=2.5.3 in c:\\users\\marlongrech\\appdata\\local\\packages\\pythonsoftwarefoundation.python.3.11_qbz5n2kfra8p0\\localcache\\local-packages\\python311\\site-packages (from pinecone-client) (2.8.2)\n",
      "Requirement already satisfied: urllib3>=1.21.1 in c:\\users\\marlongrech\\appdata\\local\\packages\\pythonsoftwarefoundation.python.3.11_qbz5n2kfra8p0\\localcache\\local-packages\\python311\\site-packages (from pinecone-client) (2.0.4)\n",
      "Requirement already satisfied: tqdm>=4.64.1 in c:\\users\\marlongrech\\appdata\\local\\packages\\pythonsoftwarefoundation.python.3.11_qbz5n2kfra8p0\\localcache\\local-packages\\python311\\site-packages (from pinecone-client) (4.66.1)\n",
      "Requirement already satisfied: numpy>=1.22.0 in c:\\users\\marlongrech\\appdata\\local\\packages\\pythonsoftwarefoundation.python.3.11_qbz5n2kfra8p0\\localcache\\local-packages\\python311\\site-packages (from pinecone-client) (1.25.2)\n",
      "Requirement already satisfied: regex>=2022.1.18 in c:\\users\\marlongrech\\appdata\\local\\packages\\pythonsoftwarefoundation.python.3.11_qbz5n2kfra8p0\\localcache\\local-packages\\python311\\site-packages (from tiktoken) (2023.8.8)\n",
      "Requirement already satisfied: colorama>=0.3.4 in c:\\users\\marlongrech\\appdata\\local\\packages\\pythonsoftwarefoundation.python.3.11_qbz5n2kfra8p0\\localcache\\local-packages\\python311\\site-packages (from loguru>=0.5.0->pinecone-client) (0.4.6)\n",
      "Requirement already satisfied: win32-setctime>=1.0.0 in c:\\users\\marlongrech\\appdata\\local\\packages\\pythonsoftwarefoundation.python.3.11_qbz5n2kfra8p0\\localcache\\local-packages\\python311\\site-packages (from loguru>=0.5.0->pinecone-client) (1.1.0)\n",
      "Requirement already satisfied: six>=1.5 in c:\\users\\marlongrech\\appdata\\local\\packages\\pythonsoftwarefoundation.python.3.11_qbz5n2kfra8p0\\localcache\\local-packages\\python311\\site-packages (from python-dateutil>=2.5.3->pinecone-client) (1.16.0)\n",
      "Requirement already satisfied: charset-normalizer<4,>=2 in c:\\users\\marlongrech\\appdata\\local\\packages\\pythonsoftwarefoundation.python.3.11_qbz5n2kfra8p0\\localcache\\local-packages\\python311\\site-packages (from requests>=2.19.0->pinecone-client) (3.2.0)\n",
      "Requirement already satisfied: idna<4,>=2.5 in c:\\users\\marlongrech\\appdata\\local\\packages\\pythonsoftwarefoundation.python.3.11_qbz5n2kfra8p0\\localcache\\local-packages\\python311\\site-packages (from requests>=2.19.0->pinecone-client) (3.4)\n",
      "Requirement already satisfied: certifi>=2017.4.17 in c:\\users\\marlongrech\\appdata\\local\\packages\\pythonsoftwarefoundation.python.3.11_qbz5n2kfra8p0\\localcache\\local-packages\\python311\\site-packages (from requests>=2.19.0->pinecone-client) (2023.7.22)\n",
      "Note: you may need to restart the kernel to use updated packages.\n"
     ]
    }
   ],
   "source": [
    "pip install pinecone-client tiktoken "
   ]
  },
  {
   "cell_type": "code",
   "execution_count": 5,
   "metadata": {},
   "outputs": [
    {
     "name": "stdout",
     "output_type": "stream",
     "text": [
      "Requirement already satisfied: pdfminer.six in c:\\users\\marlongrech\\appdata\\local\\packages\\pythonsoftwarefoundation.python.3.11_qbz5n2kfra8p0\\localcache\\local-packages\\python311\\site-packages (20221105)\n",
      "Requirement already satisfied: charset-normalizer>=2.0.0 in c:\\users\\marlongrech\\appdata\\local\\packages\\pythonsoftwarefoundation.python.3.11_qbz5n2kfra8p0\\localcache\\local-packages\\python311\\site-packages (from pdfminer.six) (3.2.0)\n",
      "Requirement already satisfied: cryptography>=36.0.0 in c:\\users\\marlongrech\\appdata\\local\\packages\\pythonsoftwarefoundation.python.3.11_qbz5n2kfra8p0\\localcache\\local-packages\\python311\\site-packages (from pdfminer.six) (41.0.3)\n",
      "Requirement already satisfied: cffi>=1.12 in c:\\users\\marlongrech\\appdata\\local\\packages\\pythonsoftwarefoundation.python.3.11_qbz5n2kfra8p0\\localcache\\local-packages\\python311\\site-packages (from cryptography>=36.0.0->pdfminer.six) (1.15.1)\n",
      "Requirement already satisfied: pycparser in c:\\users\\marlongrech\\appdata\\local\\packages\\pythonsoftwarefoundation.python.3.11_qbz5n2kfra8p0\\localcache\\local-packages\\python311\\site-packages (from cffi>=1.12->cryptography>=36.0.0->pdfminer.six) (2.21)\n",
      "Note: you may need to restart the kernel to use updated packages.\n"
     ]
    }
   ],
   "source": [
    "pip install pdfminer.six"
   ]
  },
  {
   "cell_type": "code",
   "execution_count": 6,
   "metadata": {},
   "outputs": [
    {
     "name": "stdout",
     "output_type": "stream",
     "text": [
      "Requirement already satisfied: scikit-learn in c:\\users\\marlongrech\\appdata\\local\\packages\\pythonsoftwarefoundation.python.3.11_qbz5n2kfra8p0\\localcache\\local-packages\\python311\\site-packages (1.3.0)\n",
      "Requirement already satisfied: numpy>=1.17.3 in c:\\users\\marlongrech\\appdata\\local\\packages\\pythonsoftwarefoundation.python.3.11_qbz5n2kfra8p0\\localcache\\local-packages\\python311\\site-packages (from scikit-learn) (1.25.2)\n",
      "Requirement already satisfied: scipy>=1.5.0 in c:\\users\\marlongrech\\appdata\\local\\packages\\pythonsoftwarefoundation.python.3.11_qbz5n2kfra8p0\\localcache\\local-packages\\python311\\site-packages (from scikit-learn) (1.11.1)\n",
      "Requirement already satisfied: joblib>=1.1.1 in c:\\users\\marlongrech\\appdata\\local\\packages\\pythonsoftwarefoundation.python.3.11_qbz5n2kfra8p0\\localcache\\local-packages\\python311\\site-packages (from scikit-learn) (1.3.2)\n",
      "Requirement already satisfied: threadpoolctl>=2.0.0 in c:\\users\\marlongrech\\appdata\\local\\packages\\pythonsoftwarefoundation.python.3.11_qbz5n2kfra8p0\\localcache\\local-packages\\python311\\site-packages (from scikit-learn) (3.2.0)\n",
      "Note: you may need to restart the kernel to use updated packages.\n"
     ]
    }
   ],
   "source": [
    "pip install scikit-learn"
   ]
  },
  {
   "cell_type": "code",
   "execution_count": 7,
   "metadata": {},
   "outputs": [
    {
     "name": "stdout",
     "output_type": "stream",
     "text": [
      "Requirement already satisfied: lark in c:\\users\\marlongrech\\appdata\\local\\packages\\pythonsoftwarefoundation.python.3.11_qbz5n2kfra8p0\\localcache\\local-packages\\python311\\site-packages (1.1.7)\n",
      "Note: you may need to restart the kernel to use updated packages.\n"
     ]
    }
   ],
   "source": [
    "pip install lark"
   ]
  },
  {
   "cell_type": "code",
   "execution_count": 2,
   "metadata": {},
   "outputs": [],
   "source": [
    "import os\n",
    "\n",
    "os.environ[\"OPENAI_API_TYPE\"] = \"azure\"\n",
    "os.environ[\"OPENAI_API_VERSION\"] = \"2023-05-15\"\n",
    "os.environ[\"OPENAI_API_BASE\"] = \"https://mg-test3-gpt4.openai.azure.com/\"\n",
    "os.environ[\"OPENAI_API_KEY\"] = \"fb24255438d642dbab14d394d132a918\"\n",
    "\n",
    "from langchain.llms import AzureOpenAI\n",
    "from langchain.embeddings.openai import OpenAIEmbeddings"
   ]
  },
  {
   "cell_type": "code",
   "execution_count": 3,
   "metadata": {},
   "outputs": [],
   "source": [
    "# pinecone_key = \"bc7c44d4-78b2-45f0-aebb-e75a0cf4a7e4\"\n",
    "# pinecone_env = \"gcp-starter\"\n",
    "\n",
    "\n",
    "#prod index config\n",
    "pinecone_key = \"10e43def-a8b6-4ede-8894-3a081f91db35\"\n",
    "pinecone_env = \"eastus-azure\"\n",
    "\n",
    "\n",
    "os.environ[\"PINECONE_API_KEY\"] = pinecone_key\n",
    "os.environ[\"PINECONE_ENV\"] = pinecone_env\n"
   ]
  },
  {
   "cell_type": "code",
   "execution_count": 4,
   "metadata": {},
   "outputs": [
    {
     "name": "stderr",
     "output_type": "stream",
     "text": [
      "C:\\Users\\MarlonGrech\\AppData\\Local\\Packages\\PythonSoftwareFoundation.Python.3.11_qbz5n2kfra8p0\\LocalCache\\local-packages\\Python311\\site-packages\\pinecone\\index.py:4: TqdmWarning: IProgress not found. Please update jupyter and ipywidgets. See https://ipywidgets.readthedocs.io/en/stable/user_install.html\n",
      "  from tqdm.autonotebook import tqdm\n"
     ]
    }
   ],
   "source": [
    "import pinecone\n",
    "\n",
    "pinecone.init(\n",
    "    api_key=pinecone_key,\n",
    "    environment=pinecone_env\n",
    ")\n",
    "index_name = 'rs-hr-ai'\n",
    "\n",
    "from langchain.text_splitter import CharacterTextSplitter\n",
    "from langchain.vectorstores import Pinecone"
   ]
  },
  {
   "cell_type": "code",
   "execution_count": 12,
   "metadata": {},
   "outputs": [
    {
     "name": "stdout",
     "output_type": "stream",
     "text": [
      "Loading data...\n",
      "['Annual Incentive Scheme Policy.pdf', 'Antitrust Policy.pdf', 'Bribery and Corruption Policy.pdf', 'Bribery, Corruption and Fraud Prevention Policy.pdf', 'Business Expense Management Policy and Expense Guidelines.pdf', 'Connectivity Allowance Policy.pdf', 'Delegation of Authority Policy.pdf', 'Dispute Resolution Policy and Procedure.pdf', 'Diveristy & Inclusion Policy.pdf', 'Employee Referral Policy.pdf', 'Equal Employment Opportunity and Anti-Discrimination Harassment Bullying and Victimisation Policy.pdf', 'Flexible Working Policy.pdf', 'Gifts and Entertainment Policy.pdf', 'Healthy Lifestyle Allowance Policy.pdf', 'Learning and Development Policy.pdf', 'Leave Policy.pdf', 'Modern Slavery Policy.pdf', 'P20 - Credit Card Procedure.pdf', 'P21 - Expense Claim Procedure.pdf', 'Performance Management Policy.pdf', 'Recruitment Policy and Procedure.pdf', 'Remuneration Policy.pdf', 'RightShip - Bribery Corruption and Fraud prevention policy_.pdf', 'RightShip Code of Conduct.pdf', 'Service Recognition Policy.pdf', 'Whistleblowers Protection Policy.pdf', 'Workplace Health Safety Wellbeing Policy.pdf']\n",
      "Loading raw document...Data Files/Annual Incentive Scheme Policy.pdf\n",
      "Splitting text...\n",
      "Loading raw document...Data Files/Antitrust Policy.pdf\n",
      "Splitting text...\n",
      "Loading raw document...Data Files/Bribery and Corruption Policy.pdf\n",
      "Splitting text...\n",
      "Loading raw document...Data Files/Bribery, Corruption and Fraud Prevention Policy.pdf\n"
     ]
    },
    {
     "name": "stderr",
     "output_type": "stream",
     "text": [
      "Created a chunk of size 827, which is longer than the specified 800\n"
     ]
    },
    {
     "name": "stdout",
     "output_type": "stream",
     "text": [
      "Splitting text...\n",
      "Loading raw document...Data Files/Business Expense Management Policy and Expense Guidelines.pdf\n",
      "Splitting text...\n",
      "Loading raw document...Data Files/Connectivity Allowance Policy.pdf\n",
      "Splitting text...\n",
      "Loading raw document...Data Files/Delegation of Authority Policy.pdf\n",
      "Splitting text...\n",
      "Loading raw document...Data Files/Dispute Resolution Policy and Procedure.pdf\n",
      "Splitting text...\n",
      "Loading raw document...Data Files/Diveristy & Inclusion Policy.pdf\n",
      "Splitting text...\n",
      "Loading raw document...Data Files/Employee Referral Policy.pdf\n",
      "Splitting text...\n",
      "Loading raw document...Data Files/Equal Employment Opportunity and Anti-Discrimination Harassment Bullying and Victimisation Policy.pdf\n",
      "Splitting text...\n",
      "Loading raw document...Data Files/Flexible Working Policy.pdf\n",
      "Splitting text...\n",
      "Loading raw document...Data Files/Gifts and Entertainment Policy.pdf\n",
      "Splitting text...\n",
      "Loading raw document...Data Files/Healthy Lifestyle Allowance Policy.pdf\n",
      "Splitting text...\n",
      "Loading raw document...Data Files/Learning and Development Policy.pdf\n",
      "Splitting text...\n",
      "Loading raw document...Data Files/Leave Policy.pdf\n",
      "Splitting text...\n",
      "Loading raw document...Data Files/Modern Slavery Policy.pdf\n",
      "Splitting text...\n",
      "Loading raw document...Data Files/P20 - Credit Card Procedure.pdf\n",
      "Splitting text...\n",
      "Loading raw document...Data Files/P21 - Expense Claim Procedure.pdf\n",
      "Splitting text...\n",
      "Loading raw document...Data Files/Performance Management Policy.pdf\n",
      "Splitting text...\n",
      "Loading raw document...Data Files/Recruitment Policy and Procedure.pdf\n"
     ]
    },
    {
     "name": "stderr",
     "output_type": "stream",
     "text": [
      "Created a chunk of size 1006, which is longer than the specified 800\n"
     ]
    },
    {
     "name": "stdout",
     "output_type": "stream",
     "text": [
      "Splitting text...\n",
      "Loading raw document...Data Files/Remuneration Policy.pdf\n",
      "Splitting text...\n",
      "Loading raw document...Data Files/RightShip - Bribery Corruption and Fraud prevention policy_.pdf\n"
     ]
    },
    {
     "name": "stderr",
     "output_type": "stream",
     "text": [
      "Created a chunk of size 827, which is longer than the specified 800\n"
     ]
    },
    {
     "name": "stdout",
     "output_type": "stream",
     "text": [
      "Splitting text...\n",
      "Loading raw document...Data Files/RightShip Code of Conduct.pdf\n",
      "Splitting text...\n",
      "Loading raw document...Data Files/Service Recognition Policy.pdf\n",
      "Splitting text...\n",
      "Loading raw document...Data Files/Whistleblowers Protection Policy.pdf\n"
     ]
    },
    {
     "name": "stderr",
     "output_type": "stream",
     "text": [
      "Created a chunk of size 828, which is longer than the specified 800\n"
     ]
    },
    {
     "name": "stdout",
     "output_type": "stream",
     "text": [
      "Splitting text...\n",
      "Loading raw document...Data Files/Workplace Health Safety Wellbeing Policy.pdf\n",
      "Splitting text...\n"
     ]
    }
   ],
   "source": [
    "\n",
    "from langchain.document_loaders import UnstructuredPDFLoader\n",
    "from langchain.text_splitter import CharacterTextSplitter\n",
    "import os\n",
    "\n",
    "print(\"Loading data...\")\n",
    "pdf_folder_path = \"Data Files/\"\n",
    "print(os.listdir(pdf_folder_path))\n",
    "\n",
    "# Load multiple files\n",
    "loaders = [UnstructuredPDFLoader(os.path.join(pdf_folder_path, fn)) for fn in os.listdir(pdf_folder_path)]\n",
    "\n",
    "all_documents = []\n",
    "\n",
    "for loader in loaders:\n",
    "    print(\"Loading raw document...\" + loader.file_path)\n",
    "    raw_documents = loader.load()\n",
    "\n",
    "    print(\"Splitting text...\")\n",
    "    text_splitter = CharacterTextSplitter(\n",
    "        separator=\"\\n\\n\",\n",
    "        chunk_size=800,\n",
    "        chunk_overlap=100,#using this to have some overlap between chunks \n",
    "        length_function=len,\n",
    "    )\n",
    "    documents = text_splitter.split_documents(raw_documents)\n",
    "    all_documents.extend(documents)\n",
    "    \n",
    "print('Done')\n"
   ]
  },
  {
   "cell_type": "code",
   "execution_count": 24,
   "metadata": {},
   "outputs": [
    {
     "data": {
      "text/plain": [
       "774"
      ]
     },
     "execution_count": 24,
     "metadata": {},
     "output_type": "execute_result"
    }
   ],
   "source": [
    "#all_documents[0].metadata['source']\n",
    "#[m.metadata for m in all_documents]\n",
    "len(all_documents)\n"
   ]
  },
  {
   "cell_type": "code",
   "execution_count": 5,
   "metadata": {},
   "outputs": [],
   "source": [
    "from langchain.embeddings.openai import OpenAIEmbeddings\n",
    "from langchain.vectorstores import Pinecone\n",
    "\n",
    "#this should use the os env I set at the start\n",
    "embeddings = OpenAIEmbeddings(deployment='mg-ada', chunk_size=16)\n",
    "\n",
    "docsearch = Pinecone.from_texts([t.page_content for t in all_documents], embeddings, metadatas=[m.metadata for m in all_documents], index_name=index_name)"
   ]
  },
  {
   "cell_type": "code",
   "execution_count": 9,
   "metadata": {},
   "outputs": [
    {
     "name": "stderr",
     "output_type": "stream",
     "text": [
      "C:\\Users\\MarlonGrech\\AppData\\Local\\Packages\\PythonSoftwareFoundation.Python.3.11_qbz5n2kfra8p0\\LocalCache\\local-packages\\Python311\\site-packages\\langchain\\llms\\openai.py:201: UserWarning: You are trying to use a chat model. This way of initializing it is no longer supported. Instead, please use: `from langchain.chat_models import ChatOpenAI`\n",
      "  warnings.warn(\n",
      "C:\\Users\\MarlonGrech\\AppData\\Local\\Packages\\PythonSoftwareFoundation.Python.3.11_qbz5n2kfra8p0\\LocalCache\\local-packages\\Python311\\site-packages\\langchain\\llms\\openai.py:786: UserWarning: You are trying to use a chat model. This way of initializing it is no longer supported. Instead, please use: `from langchain.chat_models import ChatOpenAI`\n",
      "  warnings.warn(\n"
     ]
    },
    {
     "name": "stdout",
     "output_type": "stream",
     "text": [
      "returned 4\n",
      "started chain...\n",
      "1. Professional Behavior: All employees should act honestly, fairly, with integrity, display impartiality, transparency, openness, and accountability in decision making. They must also maintain a professional and safe environment ensuring no discrimination, harassment, bullying, and victimization take place.\n",
      "\n",
      "2. Applicability: The Code of Conduct applies to all employees acting for, or on behalf of, RightShip. This include directors, executives, officers, consultants, contractors and agents, irrespective of their employment type or term.\n",
      "\n",
      "3. Utilization of Social Media: The use of social media should be done wisely, bearing in mind its potential benefits and pitfalls, in order not to compromise the individuals or the organisation.\n",
      "1. Professional Behavior: All employees should act honestly, fairly, with integrity, display impartiality, transparency, openness, and accountability in decision making. They must also maintain a professional and safe environment ensuring no discrimination, harassment, bullying, and victimization take place.\n",
      "\n",
      "2. Applicability: The Code of Conduct applies to all employees acting for, or on behalf of, RightShip. This include directors, executives, officers, consultants, contractors and agents, irrespective of their employment type or term.\n",
      "\n",
      "3. Utilization of Social Media: The use of social media should be done wisely, bearing in mind its potential benefits and pitfalls, in order not to compromise the individuals or the organisation.\n",
      "\n",
      "    Sources:\n",
      "    {'Data Files/RightShip Code of Conduct.pdf'}\n"
     ]
    }
   ],
   "source": [
    "#dummy version for testing how it behaves \n",
    "\n",
    "from langchain.chains.question_answering import load_qa_chain\n",
    "from langchain.chains.qa_with_sources import load_qa_with_sources_chain\n",
    "from langchain.prompts import PromptTemplate\n",
    "\n",
    "input_text = \"can you summerize the top 3 things in the code of conduct?\"\n",
    "\n",
    "llm = AzureOpenAI(\n",
    "    engine=\"mg-gpt4\",\n",
    "    model_name=\"gpt-4-32k\"\n",
    ")\n",
    "\n",
    "embeddings = OpenAIEmbeddings(deployment='mg-ada', chunk_size=10)\n",
    "docsearch = Pinecone.from_existing_index('rs-hr-ai', embeddings)\n",
    "\n",
    "docs = docsearch.similarity_search(input_text)\n",
    "print('returned ' + str(len(docs)))\n",
    "\n",
    "prompt_template = \"\"\"\n",
    "You work with RightShip as an HR consultant.\n",
    "If ever asked about Marlon, always state that he is awesome!\n",
    "###\n",
    "Context: {summaries}\n",
    "###\n",
    "Question:{question}\n",
    "Answer:\"\"\"\n",
    "\n",
    "#memory = ConversationBufferWindowMemory(k=5)\n",
    "#QA_Chain = PromptTemplate.from_template(promptTemplate)\n",
    "QA_Chain = PromptTemplate(template=prompt_template, input_variables=[\"question\", \"summaries\"])\n",
    "\n",
    "chain = load_qa_with_sources_chain(llm, chain_type=\"stuff\", prompt=QA_Chain, verbose=False)\n",
    "print('started chain...')\n",
    "result = chain.run(input_documents=docs, question=input_text, return_only_outputs=True)\n",
    "print(result)\n",
    "\n",
    "sources = set([m.metadata['source'] for m in docs])\n",
    "\n",
    "print (\n",
    "\n",
    "result + \"\"\"\n",
    "\n",
    "    Sources:\n",
    "    \"\"\" + str(sources)\n",
    "\n",
    ")\n",
    "\n",
    "# for x in docs:\n",
    "#     print(x)"
   ]
  },
  {
   "cell_type": "markdown",
   "metadata": {},
   "source": [
    ">>>>>>>>>>>>>>>>>>>>>>>>>>>>>>>>>>>>> From here down this is just experimental code ... "
   ]
  },
  {
   "cell_type": "code",
   "execution_count": 19,
   "metadata": {},
   "outputs": [
    {
     "name": "stdout",
     "output_type": "stream",
     "text": [
      "{}\n",
      "page_content='Vessel Name: HQ-631\\nIMO: 8954051\\nExisting GHG: E\\nNew GHG: C\\n:' metadata={'IMO': '8954051'}\n",
      "page_content='Vessel Name: HQ-621\\nIMO: 8954013\\nExisting GHG: E\\nNew GHG: C\\n:' metadata={'IMO': '8954013'}\n",
      "page_content='Vessel Name: HQ-630\\nIMO: 8954049\\nExisting GHG: E\\nNew GHG: C\\n:' metadata={'IMO': '8954049'}\n",
      "page_content='Vessel Name: \\nIMO: \\nExisting GHG: \\nNew GHG: \\n:' metadata={'IMO': '\\nExisti'}\n"
     ]
    }
   ],
   "source": [
    "from langchain.chains import RetrievalQA\n",
    "from langchain.retrievers import TFIDFRetriever\n",
    "from langchain.chains.question_answering import load_qa_chain\n",
    "from langchain.chains.conversation.memory import ConversationBufferWindowMemory\n",
    "\n",
    "#testing \n",
    "#input_text = \"What is the change in the GHG rating?\"\n",
    "input_text = \"can you provide me GHG rating change for 8417390?\"\n",
    "\n",
    "retriever = TFIDFRetriever.from_texts(\n",
    "    [input_text])\n",
    "\n",
    "embeddings = OpenAIEmbeddings(deployment='mg-ada', chunk_size=10)\n",
    "docsearch = Pinecone.from_existing_index('ghg-consult', embeddings)\n",
    "\n",
    "llm = AzureOpenAI(\n",
    "    engine=\"mg-gpt4\",\n",
    "    model_name=\"gpt-4-32k\"\n",
    ")\n",
    "\n",
    "# new_prompt = \n",
    "#     prompt\n",
    "#     + HumanMessage(content=\"hi\")\n",
    "#     + AIMessage(content=\"what?\")\n",
    "#     + \"{input}\"\n",
    "# )\n",
    "# chain = LLMChain(llm=llm, prompt=\"Get me the IMO number from the following: \" + input_text)\n",
    "# print(chain.run())\n",
    "chain = RetrievalQA.from_chain_type(llm = llm, chain_type=\"stuff\", retriever=retriever)\n",
    "imoStr = chain.run(\"IMO number consists of seven digits. Extract the IMO number. Always start the answer with IMO:\")\n",
    "#imoStr = chain.run(\"Get me the IMO number. Always start the answer with IMO:\")\n",
    "\n",
    "imoNumberFilter = {}\n",
    "print(\"GPT > \" +imoStr)\n",
    "\n",
    "if(imoStr.startswith(\"IMO:\")):\n",
    "    print(imoStr.index(\"IMO:\"))\n",
    "    imoNumberFilter = {'IMO' : imoStr[imoStr.index(\"IMO\")+5:imoStr.index(\"IMO\")+12] }\n",
    "\n",
    "print(imoNumberFilter)\n",
    "docs=[]\n",
    "docs = docsearch.similarity_search(input_text, filter=imoNumberFilter)\n",
    "\n",
    "memory = ConversationBufferWindowMemory(k=5)\n",
    "\n",
    "chain2 = load_qa_chain(llm, chain_type=\"stuff\", memory=memory)\n",
    "#print(chain2.run(input_documents=docs, question=input_text) )\n",
    "\n",
    "#llm(embeddings.embed_query(\"What is the IMo number in this question: \" + input_text))\n",
    "\n",
    "# result = chain.run(input_documents=docs, question=input_text) \n",
    "if(docs):\n",
    "    for x in docs:\n",
    "        print(x)\n",
    "\n",
    "# print(result)\n"
   ]
  },
  {
   "cell_type": "code",
   "execution_count": 33,
   "metadata": {},
   "outputs": [
    {
     "name": "stdout",
     "output_type": "stream",
     "text": [
      "query='asia energy rating change' filter=None limit=None\n",
      "6\n",
      "The text does not provide information on any changes to the energy rating of a vessel named Asia Energy.\n"
     ]
    }
   ],
   "source": [
    "#test some other stuff \n",
    "from langchain.chains import RetrievalQA\n",
    "from langchain.retrievers import TFIDFRetriever\n",
    "from langchain.chains.question_answering import load_qa_chain\n",
    "from langchain.chains.conversation.memory import ConversationBufferWindowMemory\n",
    "from langchain.chains.query_constructor.base import AttributeInfo\n",
    "from langchain.retrievers.self_query.base import SelfQueryRetriever\n",
    "\n",
    "\n",
    "metadata_field_info=[\n",
    "     AttributeInfo(\n",
    "        name=\"IMO\",\n",
    "        description=\"IMO number consists of seven digits. Only get such pattern\",\n",
    "        type=\"string\", \n",
    "    )]\n",
    "\n",
    "#testing \n",
    "#input_text = \"What is the change in the GHG rating?\"\n",
    "#input_text = \"can you provide me GHG rating change for 8417390 and 9136565?\"\n",
    "#input_text = \"can you provide GHG rating change for ISKANDER and IMO 9300893?\"\n",
    "input_text = 'did asia energy rating change ?'\n",
    "\n",
    "embeddings = OpenAIEmbeddings(deployment='mg-ada', chunk_size=10)\n",
    "docsearch = Pinecone.from_existing_index('ghg-consult', embeddings)\n",
    "\n",
    "index = pinecone.Index('ghg-consult')\n",
    "\n",
    "llm = AzureOpenAI(\n",
    "    engine=\"mg-gpt4\",\n",
    "    model_name=\"gpt-4-32k\"\n",
    ")\n",
    "text_field = \"text\"\n",
    "vectorstore = Pinecone(\n",
    "    index, embeddings.embed_query, text_field\n",
    ")\n",
    "\n",
    "document_content_description = \"List of vessels and the existing and new ghg rating\"\n",
    "retriever = SelfQueryRetriever.from_llm(\n",
    "    llm, \n",
    "    vectorstore, \n",
    "    document_content_description, \n",
    "    metadata_field_info, \n",
    "    enable_limit=True,\n",
    "    verbose=True,\n",
    "    search_kwargs={\"k\": 6}\n",
    ")\n",
    "\n",
    "docs = retriever.get_relevant_documents(input_text)\n",
    "print(len(docs))\n",
    "\n",
    "chain = load_qa_chain(llm, chain_type=\"stuff\")\n",
    "result = chain.run({\"question\": input_text, \"input_documents\":docs} )\n",
    "\n",
    "print(result)\n",
    "\n",
    "\n"
   ]
  }
 ],
 "metadata": {
  "kernelspec": {
   "display_name": "Python 3",
   "language": "python",
   "name": "python3"
  },
  "language_info": {
   "codemirror_mode": {
    "name": "ipython",
    "version": 3
   },
   "file_extension": ".py",
   "mimetype": "text/x-python",
   "name": "python",
   "nbconvert_exporter": "python",
   "pygments_lexer": "ipython3",
   "version": "3.11.5"
  },
  "orig_nbformat": 4
 },
 "nbformat": 4,
 "nbformat_minor": 2
}
